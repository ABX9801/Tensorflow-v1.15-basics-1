{
 "cells": [
  {
   "cell_type": "code",
   "execution_count": 1,
   "metadata": {},
   "outputs": [],
   "source": [
    "import numpy as np\n",
    "import tensorflow as tf\n",
    "import matplotlib.pyplot as plt\n",
    "from tensorflow.python.framework import ops\n",
    "from utility import load_dataset\n",
    "import math"
   ]
  },
  {
   "cell_type": "markdown",
   "metadata": {},
   "source": [
    "### Loading Dataset"
   ]
  },
  {
   "cell_type": "code",
   "execution_count": 2,
   "metadata": {},
   "outputs": [],
   "source": [
    "train_x_orig, train_y, test_x_orig, test_y, classes = load_dataset()"
   ]
  },
  {
   "cell_type": "code",
   "execution_count": 3,
   "metadata": {},
   "outputs": [
    {
     "name": "stdout",
     "output_type": "stream",
     "text": [
      "y = 1. It's a cat picture.\n"
     ]
    },
    {
     "data": {
      "image/png": "[encoded data removed]",
      "text/plain": [
       "<Figure size 432x288 with 1 Axes>"
      ]
     },
     "metadata": {
      "needs_background": "light"
     },
     "output_type": "display_data"
    }
   ],
   "source": [
    "# Example of a picture\n",
    "index = 50\n",
    "plt.imshow(train_x_orig[index])\n",
    "print (\"y = \" + str(train_y[0,index]) + \". It's a \" + classes[train_y[0,index]].decode(\"utf-8\") +  \" picture.\")"
   ]
  },
  {
   "cell_type": "markdown",
   "metadata": {},
   "source": [
    "Getting Shapes Of Data"
   ]
  },
  {
   "cell_type": "code",
   "execution_count": 4,
   "metadata": {},
   "outputs": [
    {
     "name": "stdout",
     "output_type": "stream",
     "text": [
      "train_x_shape : (209, 64, 64, 3)\n",
      "train_y_shape : (1, 209)\n",
      "test_x_shape  : (50, 64, 64, 3)\n",
      "test_y_shape  : (1, 50)\n",
      "Classes       : [b'non-cat' b'cat']\n"
     ]
    }
   ],
   "source": [
    "print('train_x_shape :',train_x_orig.shape)\n",
    "print('train_y_shape :',train_y.shape)\n",
    "print('test_x_shape  :',test_x_orig.shape)\n",
    "print('test_y_shape  :',test_y.shape)\n",
    "print('Classes       :',classes)"
   ]
  },
  {
   "cell_type": "markdown",
   "metadata": {},
   "source": [
    "Getting Necessary Variables"
   ]
  },
  {
   "cell_type": "code",
   "execution_count": 5,
   "metadata": {},
   "outputs": [],
   "source": [
    "m_train = train_x_orig.shape[0]\n",
    "m_test  = test_x_orig.shape[0]\n",
    "num_px  = train_x_orig.shape[1]"
   ]
  },
  {
   "cell_type": "markdown",
   "metadata": {},
   "source": [
    "#### Reshaping Data"
   ]
  },
  {
   "cell_type": "code",
   "execution_count": 6,
   "metadata": {},
   "outputs": [],
   "source": [
    "# Reshape the training and test examples \n",
    "train_x_flatten = train_x_orig.reshape(train_x_orig.shape[0], -1).T   # The \"-1\" makes reshape flatten the remaining dimensions\n",
    "test_x_flatten = test_x_orig.reshape(test_x_orig.shape[0], -1).T"
   ]
  },
  {
   "cell_type": "code",
   "execution_count": 7,
   "metadata": {},
   "outputs": [
    {
     "name": "stdout",
     "output_type": "stream",
     "text": [
      "train_x_flatten : (12288, 209)\n",
      "test_x_flatten  : (12288, 50)\n"
     ]
    }
   ],
   "source": [
    "print('train_x_flatten :',train_x_flatten.shape)\n",
    "print('test_x_flatten  :',test_x_flatten.shape)"
   ]
  },
  {
   "cell_type": "markdown",
   "metadata": {},
   "source": [
    "#### Standardizing Data"
   ]
  },
  {
   "cell_type": "code",
   "execution_count": 8,
   "metadata": {},
   "outputs": [],
   "source": [
    "# Standardize data to have feature values between 0 and 1.\n",
    "train_x = train_x_flatten/255.\n",
    "test_x = test_x_flatten/255."
   ]
  },
  {
   "cell_type": "markdown",
   "metadata": {},
   "source": [
    "###  Creating placeholders\n",
    "Your first task is to create placeholders for `X` and `Y`. This will allow you to later pass your training data in when you run your session. "
   ]
  },
  {
   "cell_type": "code",
   "execution_count": 9,
   "metadata": {},
   "outputs": [],
   "source": [
    "def create_placeholders(n_x,n_y):\n",
    "    \n",
    "    X = tf.placeholder(tf.float32,[n_x,None],name='x')\n",
    "    Y = tf.placeholder(tf.float32,[n_y,None],name='y')\n",
    "    \n",
    "    return X,Y"
   ]
  },
  {
   "cell_type": "markdown",
   "metadata": {},
   "source": [
    "### Initialize Parameters"
   ]
  },
  {
   "cell_type": "code",
   "execution_count": 10,
   "metadata": {},
   "outputs": [],
   "source": [
    "def initialize(layer_dims):\n",
    "    parameters={}\n",
    "    L = len(layer_dims)\n",
    "    \n",
    "    for l in range(L-1):\n",
    "        parameters['W'+str(l+1)] = tf.get_variable('W'+str(l+1),[layer_dims[l+1],layer_dims[l]],initializer = tf.contrib.layers.xavier_initializer(seed=1))\n",
    "        parameters['b'+str(l+1)] = tf.get_variable('b'+str(l+1),[layer_dims[l+1],1],initializer = tf.zeros_initializer())\n",
    "        \n",
    "    return parameters"
   ]
  },
  {
   "cell_type": "code",
   "execution_count": 11,
   "metadata": {},
   "outputs": [
    {
     "name": "stdout",
     "output_type": "stream",
     "text": [
      "WARNING:tensorflow:\n",
      "The TensorFlow contrib module will not be included in TensorFlow 2.0.\n",
      "For more information, please see:\n",
      "  * https://github.com/tensorflow/community/blob/master/rfcs/20180907-contrib-sunset.md\n",
      "  * https://github.com/tensorflow/addons\n",
      "  * https://github.com/tensorflow/io (for I/O related ops)\n",
      "If you depend on functionality not listed there, please file an issue.\n",
      "\n",
      "{'W1': <tf.Variable 'W1:0' shape=(4, 2) dtype=float32_ref>, 'b1': <tf.Variable 'b1:0' shape=(4, 1) dtype=float32_ref>, 'W2': <tf.Variable 'W2:0' shape=(3, 4) dtype=float32_ref>, 'b2': <tf.Variable 'b2:0' shape=(3, 1) dtype=float32_ref>}\n"
     ]
    }
   ],
   "source": [
    "tf.reset_default_graph()\n",
    "parameters = initialize([2,4,3])\n",
    "print(parameters)"
   ]
  },
  {
   "cell_type": "markdown",
   "metadata": {},
   "source": [
    "### Forward Propagation"
   ]
  },
  {
   "cell_type": "code",
   "execution_count": 12,
   "metadata": {},
   "outputs": [],
   "source": [
    "def forward_prop(X,parameters):\n",
    "    A = X\n",
    "    L = len(parameters)//2\n",
    "    \n",
    "    for l in range(1,L):\n",
    "        A_prev = A\n",
    "        Z = tf.matmul(parameters['W'+str(l)],A_prev)+parameters['b'+str(l)]\n",
    "        A = tf.nn.relu(Z)\n",
    "    ## final step\n",
    "    ZL = tf.matmul(parameters['W'+str(L)],A)+parameters['b'+str(L)]\n",
    "    \n",
    "    return ZL"
   ]
  },
  {
   "cell_type": "code",
   "execution_count": 13,
   "metadata": {},
   "outputs": [
    {
     "name": "stdout",
     "output_type": "stream",
     "text": [
      "ZL = Tensor(\"add_1:0\", shape=(1, ?), dtype=float32)\n"
     ]
    }
   ],
   "source": [
    "tf.reset_default_graph()\n",
    "\n",
    "with tf.Session() as sess:\n",
    "    X, Y = create_placeholders(2, 1)\n",
    "    parameters = initialize([2,3,1])\n",
    "    ZL = forward_prop(X, parameters)\n",
    "    print(\"ZL = \" + str(ZL))"
   ]
  },
  {
   "cell_type": "code",
   "execution_count": 14,
   "metadata": {},
   "outputs": [],
   "source": [
    "def compute_cost(ZL,Y):\n",
    "    \n",
    "    logits = tf.transpose(ZL)\n",
    "    labels = tf.transpose(Y)\n",
    "    \n",
    "    cost = tf.reduce_mean(tf.nn.sigmoid_cross_entropy_with_logits(logits=logits, labels=labels))\n",
    "    \n",
    "    return cost"
   ]
  },
  {
   "cell_type": "code",
   "execution_count": 15,
   "metadata": {},
   "outputs": [
    {
     "name": "stdout",
     "output_type": "stream",
     "text": [
      "WARNING:tensorflow:From c:\\users\\abx9801\\appdata\\local\\programs\\python\\python37\\lib\\site-packages\\tensorflow_core\\python\\ops\\nn_impl.py:183: where (from tensorflow.python.ops.array_ops) is deprecated and will be removed in a future version.\n",
      "Instructions for updating:\n",
      "Use tf.where in 2.0, which has the same broadcast rule as np.where\n",
      "cost = Tensor(\"Mean:0\", shape=(), dtype=float32)\n"
     ]
    }
   ],
   "source": [
    "tf.reset_default_graph()\n",
    "\n",
    "with tf.Session() as sess:\n",
    "    X, Y = create_placeholders(2, 1)\n",
    "    parameters = initialize([2,3,1])\n",
    "    ZL = forward_prop(X, parameters)\n",
    "    cost = compute_cost(ZL, Y)\n",
    "    print(\"cost = \" + str(cost))"
   ]
  },
  {
   "cell_type": "markdown",
   "metadata": {},
   "source": [
    "### Backprop   Using  Batch Gradient Descent"
   ]
  },
  {
   "cell_type": "code",
   "execution_count": 16,
   "metadata": {},
   "outputs": [],
   "source": [
    "def model(X_train,Y_train,layers_dims,learning_rate,iterations):\n",
    "    \n",
    "    ops.reset_default_graph()\n",
    "    n_x = layers_dims[0]\n",
    "    n_y = 1                   #We know it is layers_dims[-1]; but we know we are doing binary classification\n",
    "    \n",
    "    X, Y = create_placeholders(n_x,n_y)\n",
    "    \n",
    "    parameters = initialize(layers_dims)\n",
    "    \n",
    "    ZL = forward_prop(X,parameters)\n",
    "    \n",
    "    cost = compute_cost(ZL,Y)\n",
    "    \n",
    "    optimizer = tf.train.GradientDescentOptimizer(learning_rate = learning_rate).minimize(cost)\n",
    "    \n",
    "    # Initialize all the variables\n",
    "    init = tf.global_variables_initializer()\n",
    "    \n",
    "    with tf.Session() as sess:\n",
    "        \n",
    "        #run initialization\n",
    "        sess.run(init)\n",
    "        \n",
    "        for i in range(iterations):\n",
    "            sess.run([optimizer, cost], feed_dict={X: X_train, Y: Y_train})\n",
    "            \n",
    "        # lets save the parameters in a variable\n",
    "        parameters = sess.run(parameters)\n",
    "    \n",
    "    return parameters"
   ]
  },
  {
   "cell_type": "code",
   "execution_count": 17,
   "metadata": {},
   "outputs": [],
   "source": [
    "import time"
   ]
  },
  {
   "cell_type": "code",
   "execution_count": 18,
   "metadata": {},
   "outputs": [],
   "source": [
    "# Architecture\n",
    "layer_dims = [12288,20,7,5,1]"
   ]
  },
  {
   "cell_type": "code",
   "execution_count": 19,
   "metadata": {},
   "outputs": [
    {
     "name": "stdout",
     "output_type": "stream",
     "text": [
      "Training time :  48.74550175666809 seconds\n"
     ]
    }
   ],
   "source": [
    "tic = time.time()\n",
    "final_parameters = model(train_x,train_y,layer_dims,learning_rate=0.0075,iterations=2500)\n",
    "toc = time.time()\n",
    "\n",
    "print('Training time : ',toc-tic,'seconds')"
   ]
  },
  {
   "cell_type": "markdown",
   "metadata": {},
   "source": [
    "### Getting Y the prediction"
   ]
  },
  {
   "cell_type": "code",
   "execution_count": 20,
   "metadata": {},
   "outputs": [],
   "source": [
    "def forward_prop_test(X,parameters):\n",
    "    params = {}\n",
    "    \n",
    "    L = len(parameters)//2\n",
    "    for l in range(1,L+1):\n",
    "        params['W'+str(l)] = tf.convert_to_tensor(parameters['W'+str(l)])\n",
    "        params['b'+str(l)] = tf.convert_to_tensor(parameters['b'+str(l)])\n",
    "    \n",
    "    x = tf.placeholder(\"float\", [12288, None])\n",
    "    \n",
    "    zL = forward_prop(x,params)\n",
    "    AL = tf.sigmoid(zL)\n",
    "    sess = tf.Session()\n",
    "    Y = sess.run(AL,feed_dict={x:X})\n",
    "    sess.close()\n",
    "    return Y"
   ]
  },
  {
   "cell_type": "code",
   "execution_count": 21,
   "metadata": {},
   "outputs": [
    {
     "name": "stdout",
     "output_type": "stream",
     "text": [
      "[[9.8926282e-01 9.8571360e-01 9.2852020e-01 9.9718505e-01 8.5030955e-01\n",
      "  9.9166512e-01 1.3314760e-01 9.3556482e-01 9.9866164e-01 9.9939120e-01\n",
      "  9.9996996e-01 9.9996942e-01 9.9989820e-01 9.9999619e-01 4.3630600e-05\n",
      "  9.9960864e-01 1.3322830e-03 9.9596572e-01 7.0393085e-04 9.1254711e-05\n",
      "  9.7731543e-01 6.7555904e-04 9.8347664e-06 9.7640371e-01 9.4353426e-01\n",
      "  9.9998534e-01 8.6967075e-01 8.1200600e-03 2.7394381e-01 9.9999899e-01\n",
      "  9.9914956e-01 9.9999988e-01 9.3315655e-01 8.2634276e-01 3.3856696e-01\n",
      "  1.2814999e-06 8.2234442e-03 9.0234804e-01 5.2032650e-01 1.4907131e-01\n",
      "  6.3616496e-01 8.1015873e-01 9.8474985e-01 2.2895932e-03 9.9933892e-01\n",
      "  1.4272133e-01 1.5361309e-03 9.9997973e-01 1.7792930e-01 2.7518440e-04]]\n"
     ]
    }
   ],
   "source": [
    "Y = forward_prop_test(test_x,final_parameters)\n",
    "print(Y)"
   ]
  },
  {
   "cell_type": "markdown",
   "metadata": {},
   "source": [
    "- Above we have got the probability of each image; if it is a cat or not.\n",
    "- It is better to round them off\n",
    "- Threshold = 0.5;"
   ]
  },
  {
   "cell_type": "code",
   "execution_count": 22,
   "metadata": {},
   "outputs": [
    {
     "name": "stdout",
     "output_type": "stream",
     "text": [
      "[[1. 1. 1. 1. 1. 1. 0. 1. 1. 1. 1. 1. 1. 1. 0. 1. 0. 1. 0. 0. 1. 0. 0. 1.\n",
      "  1. 1. 1. 0. 0. 1. 1. 1. 1. 1. 0. 0. 0. 1. 1. 0. 1. 1. 1. 0. 1. 0. 0. 1.\n",
      "  0. 0.]]\n"
     ]
    }
   ],
   "source": [
    "for i in range(50):\n",
    "    if(Y[0][i]>0.5):\n",
    "        Y[0][i]=1\n",
    "    else:\n",
    "        Y[0][i]=0\n",
    "print(Y)"
   ]
  },
  {
   "cell_type": "code",
   "execution_count": 23,
   "metadata": {},
   "outputs": [
    {
     "name": "stdout",
     "output_type": "stream",
     "text": [
      "[[1 1 1 1 1 0 1 1 1 1 1 1 1 0 0 1 0 1 1 1 1 0 0 1 1 1 1 0 1 0 1 1 1 1 0 0\n",
      "  0 1 0 0 1 1 1 0 0 0 1 1 1 0]]\n"
     ]
    }
   ],
   "source": [
    "print(test_y)"
   ]
  },
  {
   "cell_type": "code",
   "execution_count": 24,
   "metadata": {},
   "outputs": [
    {
     "name": "stdout",
     "output_type": "stream",
     "text": [
      "Accuracy : 78.0 %\n"
     ]
    }
   ],
   "source": [
    "c = 0\n",
    "for i in range(50):\n",
    "    if(Y[0][i]==test_y[0][i]):\n",
    "        c+=1\n",
    "print('Accuracy :' ,(c/50)*100,'%')"
   ]
  },
  {
   "cell_type": "markdown",
   "metadata": {},
   "source": [
    "#### Let Us Try to code it down using Adam Optimizer"
   ]
  },
  {
   "cell_type": "markdown",
   "metadata": {},
   "source": [
    "First we define a Function that creates Minibatches"
   ]
  },
  {
   "cell_type": "code",
   "execution_count": 25,
   "metadata": {},
   "outputs": [],
   "source": [
    "def random_mini_batches(X, Y, mini_batch_size = 64, seed = 0):\n",
    "    \"\"\"\n",
    "    Creates a list of random minibatches from (X, Y)\n",
    "    \n",
    "    Arguments:\n",
    "    X -- input data, of shape (input size, number of examples)\n",
    "    Y -- true \"label\" vector (containing 0 if cat, 1 if non-cat), of shape (1, number of examples)\n",
    "    mini_batch_size - size of the mini-batches, integer\n",
    "    seed -- this is only for the purpose of grading, so that you're \"random minibatches are the same as ours.\n",
    "    \n",
    "    Returns:\n",
    "    mini_batches -- list of synchronous (mini_batch_X, mini_batch_Y)\n",
    "    \"\"\"\n",
    "    \n",
    "    m = X.shape[1]                  # number of training examples\n",
    "    mini_batches = []\n",
    "    np.random.seed(seed)\n",
    "    \n",
    "    # Step 1: Shuffle (X, Y)\n",
    "    permutation = list(np.random.permutation(m))\n",
    "    shuffled_X = X[:, permutation]\n",
    "    shuffled_Y = Y[:, permutation].reshape((Y.shape[0],m))\n",
    "\n",
    "    # Step 2: Partition (shuffled_X, shuffled_Y). Minus the end case.\n",
    "    num_complete_minibatches = math.floor(m/mini_batch_size) # number of mini batches of size mini_batch_size in your partitionning\n",
    "    for k in range(0, num_complete_minibatches):\n",
    "        mini_batch_X = shuffled_X[:, k * mini_batch_size : k * mini_batch_size + mini_batch_size]\n",
    "        mini_batch_Y = shuffled_Y[:, k * mini_batch_size : k * mini_batch_size + mini_batch_size]\n",
    "        mini_batch = (mini_batch_X, mini_batch_Y)\n",
    "        mini_batches.append(mini_batch)\n",
    "    \n",
    "    # Handling the end case (last mini-batch < mini_batch_size)\n",
    "    if m % mini_batch_size != 0:\n",
    "        mini_batch_X = shuffled_X[:, num_complete_minibatches * mini_batch_size : m]\n",
    "        mini_batch_Y = shuffled_Y[:, num_complete_minibatches * mini_batch_size : m]\n",
    "        mini_batch = (mini_batch_X, mini_batch_Y)\n",
    "        mini_batches.append(mini_batch)\n",
    "    \n",
    "    return mini_batches"
   ]
  },
  {
   "cell_type": "code",
   "execution_count": 26,
   "metadata": {},
   "outputs": [],
   "source": [
    "def Adam_model(X_train,Y_train,layers_dims,learning_rate,minibatch_size,epochs):\n",
    "    \n",
    "    ops.reset_default_graph()\n",
    "    n_x = layers_dims[0]\n",
    "    n_y = 1 \n",
    "    seed = 1\n",
    "    m = m_train\n",
    "    \n",
    "    X, Y = create_placeholders(n_x,n_y)\n",
    "    \n",
    "    parameters = initialize(layers_dims)\n",
    "    \n",
    "    ZL = forward_prop(X,parameters)\n",
    "    \n",
    "    cost = compute_cost(ZL,Y)\n",
    "    \n",
    "    optimizer = tf.train.AdamOptimizer(learning_rate = learning_rate).minimize(cost)\n",
    "    \n",
    "    # Initialize all the variables\n",
    "    init = tf.global_variables_initializer()\n",
    "    \n",
    "    with tf.Session() as sess:\n",
    "        \n",
    "        sess.run(init)\n",
    "        \n",
    "        for i in range(epochs):\n",
    "            num_minibatches = int(m / minibatch_size)\n",
    "            seed = seed + 1\n",
    "            minibatches = random_mini_batches(X_train, Y_train, minibatch_size, seed)\n",
    "            \n",
    "            for minibatch in minibatches:\n",
    "\n",
    "                # Select a minibatch\n",
    "                (minibatch_X, minibatch_Y) = minibatch\n",
    "                \n",
    "                sess.run([optimizer, cost], feed_dict={X: minibatch_X, Y: minibatch_Y})\n",
    "                \n",
    "        parameters = sess.run(parameters)\n",
    "        \n",
    "    return parameters"
   ]
  },
  {
   "cell_type": "code",
   "execution_count": 27,
   "metadata": {},
   "outputs": [
    {
     "name": "stdout",
     "output_type": "stream",
     "text": [
      "Training time :  4.051129102706909 seconds\n"
     ]
    }
   ],
   "source": [
    "tic = time.time()\n",
    "final_adam_parameters = Adam_model(train_x,train_y,layer_dims,learning_rate=0.0075,minibatch_size=32,epochs=100)\n",
    "toc = time.time()\n",
    "\n",
    "print('Training time : ',toc-tic,'seconds')"
   ]
  },
  {
   "cell_type": "code",
   "execution_count": 28,
   "metadata": {},
   "outputs": [
    {
     "name": "stdout",
     "output_type": "stream",
     "text": [
      "[[7.8843981e-01 7.8843981e-01 7.8843981e-01 7.8843981e-01 7.8843981e-01\n",
      "  7.8843981e-01 8.7669492e-04 7.8843981e-01 7.8843981e-01 7.8843981e-01\n",
      "  7.8843981e-01 7.8843981e-01 7.8843981e-01 7.8843981e-01 3.0270219e-04\n",
      "  7.8843981e-01 7.6246262e-04 7.8843981e-01 7.8843981e-01 3.6030173e-02\n",
      "  7.8843981e-01 3.2552767e-01 3.6045909e-04 7.8843981e-01 7.8843981e-01\n",
      "  7.8843981e-01 7.8843981e-01 2.1427870e-05 3.8360387e-02 7.8843981e-01\n",
      "  2.6691675e-02 7.8843981e-01 7.8843981e-01 7.8843981e-01 7.8843981e-01\n",
      "  1.5901107e-01 8.1848204e-02 7.8843981e-01 6.7481494e-01 2.3591828e-01\n",
      "  7.8843981e-01 7.8843981e-01 7.8843981e-01 4.0933192e-03 7.8843981e-01\n",
      "  7.3403251e-01 3.0332255e-01 7.8843981e-01 7.8843975e-01 2.5848856e-02]]\n"
     ]
    }
   ],
   "source": [
    "Y = forward_prop_test(test_x,final_adam_parameters)\n",
    "print(Y)"
   ]
  },
  {
   "cell_type": "code",
   "execution_count": 29,
   "metadata": {},
   "outputs": [
    {
     "name": "stdout",
     "output_type": "stream",
     "text": [
      "[[1. 1. 1. 1. 1. 1. 0. 1. 1. 1. 1. 1. 1. 1. 0. 1. 0. 1. 1. 0. 1. 0. 0. 1.\n",
      "  1. 1. 1. 0. 0. 1. 0. 1. 1. 1. 1. 0. 0. 1. 1. 0. 1. 1. 1. 0. 1. 1. 0. 1.\n",
      "  1. 0.]]\n"
     ]
    }
   ],
   "source": [
    "for i in range(50):\n",
    "    if(Y[0][i]>0.5):\n",
    "        Y[0][i]=1\n",
    "    else:\n",
    "        Y[0][i]=0\n",
    "print(Y)"
   ]
  },
  {
   "cell_type": "code",
   "execution_count": 30,
   "metadata": {},
   "outputs": [
    {
     "name": "stdout",
     "output_type": "stream",
     "text": [
      "Accuracy : 76.0 %\n"
     ]
    }
   ],
   "source": [
    "c = 0\n",
    "for i in range(50):\n",
    "    if(Y[0][i]==test_y[0][i]):\n",
    "        c+=1\n",
    "print('Accuracy :' ,(c/50)*100,'%')"
   ]
  },
  {
   "cell_type": "markdown",
   "metadata": {},
   "source": [
    "#### Right now I have Just tuned the parameters;  we can clearly see that using Adam Optimizer we can get Our model Trained approx 16 times faster!! with acuraccy somewhat near to it"
   ]
  }
 ],
 "metadata": {
  "kernelspec": {
   "display_name": "Python 3",
   "language": "python",
   "name": "python3"
  },
  "language_info": {
   "codemirror_mode": {
    "name": "ipython",
    "version": 3
   },
   "file_extension": ".py",
   "mimetype": "text/x-python",
   "name": "python",
   "nbconvert_exporter": "python",
   "pygments_lexer": "ipython3",
   "version": "3.7.3"
  }
 },
 "nbformat": 4,
 "nbformat_minor": 4
}
